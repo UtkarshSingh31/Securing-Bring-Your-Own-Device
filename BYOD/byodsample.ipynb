{
 "cells": [
  {
   "cell_type": "markdown",
   "id": "f032757b-fa1a-488b-951b-e684e688ecc1",
   "metadata": {},
   "source": [
    "# BYOD DEVICE"
   ]
  },
  {
   "cell_type": "code",
   "execution_count": 77,
   "id": "0f029664-5beb-41cd-a348-47191036cdc8",
   "metadata": {},
   "outputs": [],
   "source": [
    "import pandas as pd \n",
    "import numpy as np \n",
    "import seaborn as sns\n",
    "import matplotlib.pyplot as plt\n",
    "%matplotlib inline"
   ]
  },
  {
   "cell_type": "code",
   "execution_count": 87,
   "id": "b6d342c1",
   "metadata": {},
   "outputs": [
    {
     "data": {
      "text/html": [
       "<div>\n",
       "<style scoped>\n",
       "    .dataframe tbody tr th:only-of-type {\n",
       "        vertical-align: middle;\n",
       "    }\n",
       "\n",
       "    .dataframe tbody tr th {\n",
       "        vertical-align: top;\n",
       "    }\n",
       "\n",
       "    .dataframe thead th {\n",
       "        text-align: right;\n",
       "    }\n",
       "</style>\n",
       "<table border=\"1\" class=\"dataframe\">\n",
       "  <thead>\n",
       "    <tr style=\"text-align: right;\">\n",
       "      <th></th>\n",
       "      <th>1</th>\n",
       "      <th>http://www.liquidgeneration.com/</th>\n",
       "      <th>Adult</th>\n",
       "    </tr>\n",
       "  </thead>\n",
       "  <tbody>\n",
       "    <tr>\n",
       "      <th>0</th>\n",
       "      <td>2</td>\n",
       "      <td>http://www.onlineanime.org/</td>\n",
       "      <td>Adult</td>\n",
       "    </tr>\n",
       "    <tr>\n",
       "      <th>1</th>\n",
       "      <td>3</td>\n",
       "      <td>http://www.ceres.dti.ne.jp/~nekoi/senno/senfir...</td>\n",
       "      <td>Adult</td>\n",
       "    </tr>\n",
       "    <tr>\n",
       "      <th>2</th>\n",
       "      <td>4</td>\n",
       "      <td>http://www.galeon.com/kmh/</td>\n",
       "      <td>Adult</td>\n",
       "    </tr>\n",
       "    <tr>\n",
       "      <th>3</th>\n",
       "      <td>5</td>\n",
       "      <td>http://www.fanworkrecs.com/</td>\n",
       "      <td>Adult</td>\n",
       "    </tr>\n",
       "    <tr>\n",
       "      <th>4</th>\n",
       "      <td>6</td>\n",
       "      <td>http://www.animehouse.com/</td>\n",
       "      <td>Adult</td>\n",
       "    </tr>\n",
       "  </tbody>\n",
       "</table>\n",
       "</div>"
      ],
      "text/plain": [
       "   1                   http://www.liquidgeneration.com/  Adult\n",
       "0  2                        http://www.onlineanime.org/  Adult\n",
       "1  3  http://www.ceres.dti.ne.jp/~nekoi/senno/senfir...  Adult\n",
       "2  4                         http://www.galeon.com/kmh/  Adult\n",
       "3  5                        http://www.fanworkrecs.com/  Adult\n",
       "4  6                         http://www.animehouse.com/  Adult"
      ]
     },
     "execution_count": 87,
     "metadata": {},
     "output_type": "execute_result"
    }
   ],
   "source": [
    "#importing dataset \n",
    "dataset=pd.read_csv('url_classification.csv')\n",
    "dataset.head()"
   ]
  },
  {
   "cell_type": "markdown",
   "id": "96551236",
   "metadata": {},
   "source": [
    "## Data PreProcessing"
   ]
  },
  {
   "cell_type": "code",
   "execution_count": 89,
   "id": "75afbd2c-45dc-4b90-85cd-1908bf1cf4e6",
   "metadata": {},
   "outputs": [
    {
     "data": {
      "text/plain": [
       "(1562977, 3)"
      ]
     },
     "execution_count": 89,
     "metadata": {},
     "output_type": "execute_result"
    }
   ],
   "source": [
    "# checking shape of dataset \n",
    "dataset.shape"
   ]
  },
  {
   "cell_type": "code",
   "execution_count": 91,
   "id": "6a369548",
   "metadata": {},
   "outputs": [],
   "source": [
    "# assigning columns names to dataset\n",
    "dataset.columns=['sr_no','website_url','category']"
   ]
  },
  {
   "cell_type": "code",
   "execution_count": 93,
   "id": "c79c694b",
   "metadata": {},
   "outputs": [
    {
     "data": {
      "text/html": [
       "<div>\n",
       "<style scoped>\n",
       "    .dataframe tbody tr th:only-of-type {\n",
       "        vertical-align: middle;\n",
       "    }\n",
       "\n",
       "    .dataframe tbody tr th {\n",
       "        vertical-align: top;\n",
       "    }\n",
       "\n",
       "    .dataframe thead th {\n",
       "        text-align: right;\n",
       "    }\n",
       "</style>\n",
       "<table border=\"1\" class=\"dataframe\">\n",
       "  <thead>\n",
       "    <tr style=\"text-align: right;\">\n",
       "      <th></th>\n",
       "      <th>sr_no</th>\n",
       "      <th>website_url</th>\n",
       "      <th>category</th>\n",
       "    </tr>\n",
       "  </thead>\n",
       "  <tbody>\n",
       "    <tr>\n",
       "      <th>0</th>\n",
       "      <td>2</td>\n",
       "      <td>http://www.onlineanime.org/</td>\n",
       "      <td>Adult</td>\n",
       "    </tr>\n",
       "    <tr>\n",
       "      <th>1</th>\n",
       "      <td>3</td>\n",
       "      <td>http://www.ceres.dti.ne.jp/~nekoi/senno/senfir...</td>\n",
       "      <td>Adult</td>\n",
       "    </tr>\n",
       "    <tr>\n",
       "      <th>2</th>\n",
       "      <td>4</td>\n",
       "      <td>http://www.galeon.com/kmh/</td>\n",
       "      <td>Adult</td>\n",
       "    </tr>\n",
       "    <tr>\n",
       "      <th>3</th>\n",
       "      <td>5</td>\n",
       "      <td>http://www.fanworkrecs.com/</td>\n",
       "      <td>Adult</td>\n",
       "    </tr>\n",
       "    <tr>\n",
       "      <th>4</th>\n",
       "      <td>6</td>\n",
       "      <td>http://www.animehouse.com/</td>\n",
       "      <td>Adult</td>\n",
       "    </tr>\n",
       "  </tbody>\n",
       "</table>\n",
       "</div>"
      ],
      "text/plain": [
       "   sr_no                                        website_url category\n",
       "0      2                        http://www.onlineanime.org/    Adult\n",
       "1      3  http://www.ceres.dti.ne.jp/~nekoi/senno/senfir...    Adult\n",
       "2      4                         http://www.galeon.com/kmh/    Adult\n",
       "3      5                        http://www.fanworkrecs.com/    Adult\n",
       "4      6                         http://www.animehouse.com/    Adult"
      ]
     },
     "execution_count": 93,
     "metadata": {},
     "output_type": "execute_result"
    }
   ],
   "source": [
    "dataset.head()"
   ]
  },
  {
   "cell_type": "code",
   "execution_count": 95,
   "id": "db847560",
   "metadata": {},
   "outputs": [],
   "source": [
    "# removing first column as it contains sr_no\n",
    "df=dataset.iloc[:,1:]"
   ]
  },
  {
   "cell_type": "code",
   "execution_count": 97,
   "id": "f3b78729-b683-4919-a12d-3242de7e6564",
   "metadata": {},
   "outputs": [],
   "source": [
    "dataset=dataset.dropna(axis=0)"
   ]
  },
  {
   "cell_type": "code",
   "execution_count": 65,
   "id": "2418f46a-e607-43bb-9164-b4c7c07d1bb6",
   "metadata": {},
   "outputs": [
    {
     "name": "stdout",
     "output_type": "stream",
     "text": [
      "ERROR! Session/line number was not unique in database. History logging moved to new session 171\n"
     ]
    }
   ],
   "source": [
    "# dataset.drop(df.index[5555:35325],inplace=True)\n",
    "# dataset.drop(df.index[35325:282000],inplace=True)\n",
    "# dataset.drop(df.index[289166:523000],inplace=True)\n",
    "# dataset.drop(df.index[529343:640000],inplace=True)\n",
    "# dataset.drop(df.index[647305:698000],inplace=True)\n",
    "# dataset.drop(df.index[703782:757000],inplace=True)\n",
    "# dataset.drop(df.index[763879:787000],inplace=True)"
   ]
  },
  {
   "cell_type": "code",
   "execution_count": 99,
   "id": "74581c50-3e1e-4fb3-b7c1-0433943b41ba",
   "metadata": {},
   "outputs": [],
   "source": [
    "dataset.drop(df.index[792148:820000],inplace=True)\n",
    "dataset.drop(df.index[838330:840000],inplace=True)"
   ]
  },
  {
   "cell_type": "code",
   "execution_count": 101,
   "id": "e2fd18c8-d693-45db-919b-92e0298dbb89",
   "metadata": {},
   "outputs": [
    {
     "data": {
      "text/plain": [
       "Arts          253840\n",
       "Society       243942\n",
       "Business      240176\n",
       "Computers     117961\n",
       "Science       110286\n",
       "Recreation    106586\n",
       "Sports        101328\n",
       "Shopping       95270\n",
       "Health         60097\n",
       "Reference      58247\n",
       "Games          56477\n",
       "Adult          35324\n",
       "Home           28269\n",
       "Kids           18330\n",
       "News            7319\n",
       "Name: category, dtype: int64"
      ]
     },
     "execution_count": 101,
     "metadata": {},
     "output_type": "execute_result"
    }
   ],
   "source": [
    "dataset['category'].value_counts()"
   ]
  },
  {
   "cell_type": "code",
   "execution_count": 85,
   "id": "64d38393",
   "metadata": {},
   "outputs": [
    {
     "data": {
      "text/plain": [
       "(1535122, 2)"
      ]
     },
     "execution_count": 85,
     "metadata": {},
     "output_type": "execute_result"
    }
   ],
   "source": [
    "df.shape"
   ]
  },
  {
   "cell_type": "code",
   "execution_count": 83,
   "id": "e3eb4f3d",
   "metadata": {},
   "outputs": [],
   "source": [
    "dataset=df[:]"
   ]
  },
  {
   "cell_type": "code",
   "execution_count": 31,
   "id": "854cf9fa",
   "metadata": {},
   "outputs": [
    {
     "data": {
      "text/plain": [
       "(1533207, 2)"
      ]
     },
     "execution_count": 31,
     "metadata": {},
     "output_type": "execute_result"
    }
   ],
   "source": [
    "dataset.shape"
   ]
  },
  {
   "cell_type": "code",
   "execution_count": 19,
   "id": "4163e619",
   "metadata": {},
   "outputs": [
    {
     "data": {
      "text/plain": [
       "website_url    3\n",
       "category       0\n",
       "dtype: int64"
      ]
     },
     "execution_count": 19,
     "metadata": {},
     "output_type": "execute_result"
    }
   ],
   "source": [
    "# check for nan values in dataset\n",
    "df.isnull().sum()"
   ]
  },
  {
   "cell_type": "code",
   "execution_count": 21,
   "id": "7f668df7",
   "metadata": {},
   "outputs": [
    {
     "name": "stdout",
     "output_type": "stream",
     "text": [
      "<class 'pandas.core.frame.DataFrame'>\n",
      "RangeIndex: 1562977 entries, 0 to 1562976\n",
      "Data columns (total 2 columns):\n",
      " #   Column       Non-Null Count    Dtype \n",
      "---  ------       --------------    ----- \n",
      " 0   website_url  1562974 non-null  object\n",
      " 1   category     1562977 non-null  object\n",
      "dtypes: object(2)\n",
      "memory usage: 23.8+ MB\n"
     ]
    }
   ],
   "source": [
    "df.info()"
   ]
  },
  {
   "cell_type": "code",
   "execution_count": 23,
   "id": "cc0dd52f",
   "metadata": {},
   "outputs": [],
   "source": [
    "# dropping rows with nan url's  \n",
    "df=df.dropna(axis=0)"
   ]
  },
  {
   "cell_type": "code",
   "execution_count": 31,
   "id": "4a3be60e-54df-4752-a841-cabf64a4f328",
   "metadata": {},
   "outputs": [
    {
     "data": {
      "text/plain": [
       "website_url    0\n",
       "category       0\n",
       "dtype: int64"
      ]
     },
     "execution_count": 31,
     "metadata": {},
     "output_type": "execute_result"
    }
   ],
   "source": [
    "df.isnull().sum()"
   ]
  },
  {
   "cell_type": "code",
   "execution_count": 43,
   "id": "04c26d35",
   "metadata": {},
   "outputs": [
    {
     "data": {
      "text/plain": [
       "(1562974, 2)"
      ]
     },
     "execution_count": 43,
     "metadata": {},
     "output_type": "execute_result"
    }
   ],
   "source": [
    "df.shape"
   ]
  },
  {
   "cell_type": "code",
   "execution_count": 37,
   "id": "131a9300",
   "metadata": {},
   "outputs": [
    {
     "data": {
      "text/plain": [
       "Arts          253840\n",
       "Society       243942\n",
       "Business      240176\n",
       "Computers     117961\n",
       "Science       110286\n",
       "Recreation    106586\n",
       "Sports        101328\n",
       "Shopping       95270\n",
       "Health         60097\n",
       "Reference      58247\n",
       "Games          56477\n",
       "Kids           46182\n",
       "Adult          35324\n",
       "Home           28269\n",
       "News            8989\n",
       "Name: category, dtype: int64"
      ]
     },
     "execution_count": 37,
     "metadata": {},
     "output_type": "execute_result"
    }
   ],
   "source": [
    "df['category'].value_counts()"
   ]
  },
  {
   "cell_type": "code",
   "execution_count": 47,
   "id": "d7033e45",
   "metadata": {},
   "outputs": [
    {
     "data": {
      "image/png": "[encoded data removed]",
      "text/plain": [
       "<Figure size 864x432 with 1 Axes>"
      ]
     },
     "metadata": {
      "needs_background": "light"
     },
     "output_type": "display_data"
    }
   ],
   "source": [
    "plt.figure(figsize=(12,6))\n",
    "sns.countplot(y=df['category'],palette='viridis')\n",
    "plt.title(\"Category Distribution\")\n",
    "plt.ylabel(\"Category\")\n",
    "plt.xlabel(\"Count\")\n",
    "plt.show()"
   ]
  },
  {
   "cell_type": "markdown",
   "id": "0c091166",
   "metadata": {},
   "source": [
    "### URLs Processing"
   ]
  },
  {
   "cell_type": "code",
   "execution_count": 39,
   "id": "c4fdb01b",
   "metadata": {},
   "outputs": [],
   "source": [
    "# importing regular expresions library for cleaning url's \n",
    "import re\n",
    "\n",
    "def preprocess_url(url):\n",
    "    \"\"\"\n",
    "    takes url's from dataset and preprocess them by removing path,special characters and extracting domain names,path and length of given url.\n",
    "    Args:\n",
    "        url (_type_): object\n",
    "    Returns:\n",
    "        url domain path\n",
    "    \"\"\"\n",
    "    url=re.sub(r\"https?://\", \"\",url)        #remove protocols\n",
    "    url=re.sub(r\"www\\d?\\.\", \"\",url)         #remove www. www/ protocols\n",
    "    url=re.sub(r\"[^\\w\\s]\", \" \", url)        #remove special characters\n",
    "    url=re.sub(r\"\\s+\", \" \", url).strip()    #remove extra space\n",
    "    \n",
    "    return url\n",
    "\n",
    "df['website_url']=df['website_url'].apply(preprocess_url)\n"
   ]
  },
  {
   "cell_type": "markdown",
   "id": "fbad5833",
   "metadata": {},
   "source": [
    "### Feature Engineering"
   ]
  },
  {
   "cell_type": "code",
   "execution_count": null,
   "id": "138f3657",
   "metadata": {},
   "outputs": [],
   "source": [
    "from urllib.parse import urlparse\n",
    "\n",
    "def extract_features(url):\n",
    "    \"\"\"Extract additional features: domain, path, query params, length, and numbers\"\"\"\n",
    "    parsed=urlparse(url)\n",
    "    domain=parsed.netloc.replace(\"www.\",\"\")\n",
    "    path=parsed.path.replace(\"/\",\"\")\n",
    "    query_count=len(parsed.query.split('&')) if parsed.query else 0\n",
    "    url_length=len(url)\n",
    "    num_count=sum(c.isdigit() for c in url)\n",
    "    return f\"{domain} {path}\" #, query_count, url_length, num_count\n",
    "\n",
    "df[\"website_url\"]= df['website_url'].apply(lambda x: pd.Series(extract_features(x)))\n",
    "    "
   ]
  },
  {
   "cell_type": "markdown",
   "id": "b6a3893e",
   "metadata": {},
   "source": [
    "### Visualization of data"
   ]
  },
  {
   "cell_type": "code",
   "execution_count": 50,
   "id": "2927574f",
   "metadata": {},
   "outputs": [
    {
     "data": {
      "image/png": "[encoded data removed]",
      "text/plain": [
       "<Figure size 432x216 with 1 Axes>"
      ]
     },
     "metadata": {
      "needs_background": "light"
     },
     "output_type": "display_data"
    }
   ],
   "source": [
    "\n",
    "plt.figure(figsize=(6,3))\n",
    "sns.histplot(df['url_length'],bins=10,kde=True,color='blue')\n",
    "plt.title(\"URL Length Distribution\")\n",
    "plt.xlabel(\"URL Length\")\n",
    "plt.ylabel(\"Frequency\")\n",
    "plt.show()"
   ]
  },
  {
   "cell_type": "code",
   "execution_count": 52,
   "id": "2ae8b6ad",
   "metadata": {},
   "outputs": [],
   "source": [
    "# test_samples_per_class = 1000\n",
    "# test_dfs = []\n",
    "\n",
    "# for category in df[\"category\"].unique():\n",
    "#     test_dfs.append(df[df[\"category\"] == category].sample(test_samples_per_class, random_state=42))\n",
    "\n",
    "# test_data = pd.concat(test_dfs)"
   ]
  },
  {
   "cell_type": "code",
   "execution_count": 54,
   "id": "a4171c46",
   "metadata": {},
   "outputs": [],
   "source": [
    "# # Remove test data from training set\n",
    "# train_data = df.drop(test_data.index)\n",
    "\n",
    "# X_train = train_data.drop(columns=['category'])\n",
    "# y_train = train_data['category']\n",
    "# X_test = test_data.drop(columns=['category'])\n",
    "# y_test = test_data['category']"
   ]
  },
  {
   "cell_type": "markdown",
   "id": "f925d476",
   "metadata": {},
   "source": [
    "### Train test split"
   ]
  },
  {
   "cell_type": "code",
   "execution_count": 96,
   "id": "c224fcbf",
   "metadata": {},
   "outputs": [],
   "source": [
    "from sklearn.feature_extraction.text import TfidfTransformer,TfidfVectorizer\n",
    "from nltk.stem.snowball import SnowballStemmer\n",
    "from xgboost import XGBClassifier\n",
    "from sklearn.pipeline import Pipeline\n",
    "from sklearn.compose import ColumnTransformer\n",
    "from sklearn.preprocessing import MinMaxScaler  \n",
    "from sklearn.model_selection import train_test_split\n",
    "from imblearn.over_sampling import SMOTE"
   ]
  },
  {
   "cell_type": "code",
   "execution_count": 82,
   "id": "5251d206",
   "metadata": {},
   "outputs": [],
   "source": [
    "# Custom Tokenizer with SnowballStemmer\n",
    "stemmer = SnowballStemmer(\"english\")\n",
    "def stemmed_tokenizer(text):\n",
    "    text = re.sub(r\"[^a-zA-Z0-9]\", \" \", text)  # Remove special characters\n",
    "    tokens = text.split()\n",
    "    return [stemmer.stem(token) for token in tokens]  # Apply stemming"
   ]
  },
  {
   "cell_type": "code",
   "execution_count": 86,
   "id": "5fcb4cc3-ac5a-4238-8959-f870e7aebafc",
   "metadata": {},
   "outputs": [],
   "source": [
    "X = df['website_url']\n",
    "y = df['category']\n",
    "X_train, X_test, y_train, y_test = train_test_split(X, y, test_size=0.2, stratify=y, random_state=42)"
   ]
  },
  {
   "cell_type": "code",
   "execution_count": 88,
   "id": "3c6c45a1",
   "metadata": {},
   "outputs": [],
   "source": [
    "text_pipeline = Pipeline([\n",
    "    ('vect', TfidfVectorizer(stop_words=\"english\", ngram_range=(1, 2), tokenizer=stemmed_tokenizer)),  # Use 1-2 grams\n",
    "    ('tfidf', TfidfTransformer())\n",
    "])"
   ]
  },
  {
   "cell_type": "code",
   "execution_count": null,
   "id": "a1f14f2c",
   "metadata": {},
   "outputs": [],
   "source": [
    "preprocessor = ColumnTransformer([\n",
    "    ('text', text_pipeline, 'website_url'),\n",
    "])"
   ]
  },
  {
   "cell_type": "code",
   "execution_count": 100,
   "id": "bec8c686-48fe-4847-9031-5469068dbedd",
   "metadata": {},
   "outputs": [
    {
     "name": "stderr",
     "output_type": "stream",
     "text": [
      "C:\\Users\\victus123\\anaconda3\\envs\\ml_env\\lib\\site-packages\\sklearn\\feature_extraction\\text.py:391: UserWarning: Your stop_words may be inconsistent with your preprocessing. Tokenizing the stop words generated tokens ['abov', 'afterward', 'alon', 'alreadi', 'alway', 'ani', 'anoth', 'anyon', 'anyth', 'anywher', 'becam', 'becaus', 'becom', 'befor', 'besid', 'cri', 'describ', 'dure', 'els', 'elsewher', 'empti', 'everi', 'everyon', 'everyth', 'everywher', 'fifti', 'forti', 'henc', 'hereaft', 'herebi', 'howev', 'hundr', 'inde', 'mani', 'meanwhil', 'moreov', 'nobodi', 'noon', 'noth', 'nowher', 'onc', 'onli', 'otherwis', 'ourselv', 'perhap', 'pleas', 'sever', 'sinc', 'sincer', 'sixti', 'someon', 'someth', 'sometim', 'somewher', 'themselv', 'thenc', 'thereaft', 'therebi', 'therefor', 'togeth', 'twelv', 'twenti', 'veri', 'whatev', 'whenc', 'whenev', 'wherea', 'whereaft', 'wherebi', 'wherev', 'whi', 'yourselv'] not in stop_words.\n",
      "  'stop_words.' % sorted(inconsistent))\n"
     ]
    }
   ],
   "source": [
    "X_train_transformed = preprocessor.fit_transform(X_train[['website_url']])"
   ]
  },
  {
   "cell_type": "code",
   "execution_count": null,
   "id": "a5a13693-9c3d-4125-be03-3f62a19a146b",
   "metadata": {},
   "outputs": [],
   "source": [
    "# Balancing the data\n",
    "smote=SMOTE(random_state=42)\n",
    "X_train_balanced,Y_train_balanced=smote.fit_resample(X_train_transformed,y_train)"
   ]
  },
  {
   "cell_type": "code",
   "execution_count": null,
   "id": "2860ea20-c84c-426e-857c-e3bbaf386585",
   "metadata": {},
   "outputs": [],
   "source": [
    "pipeline = Pipeline([\n",
    "    ('clf', XGBClassifier(objective=\"multi:softmax\", num_class=len(Y_train_balanced.unique()), eval_metric=\"mlogloss\"))\n",
    "])"
   ]
  },
  {
   "cell_type": "markdown",
   "id": "c90b4475",
   "metadata": {},
   "source": [
    "### Model evalution"
   ]
  },
  {
   "cell_type": "code",
   "execution_count": 70,
   "id": "e1a0f1ba",
   "metadata": {},
   "outputs": [
    {
     "name": "stderr",
     "output_type": "stream",
     "text": [
      "C:\\Users\\victus123\\anaconda3\\envs\\ml_env\\lib\\site-packages\\sklearn\\feature_extraction\\text.py:391: UserWarning: Your stop_words may be inconsistent with your preprocessing. Tokenizing the stop words generated tokens ['abov', 'afterward', 'alon', 'alreadi', 'alway', 'ani', 'anoth', 'anyon', 'anyth', 'anywher', 'becam', 'becaus', 'becom', 'befor', 'besid', 'cri', 'describ', 'dure', 'els', 'elsewher', 'empti', 'everi', 'everyon', 'everyth', 'everywher', 'fifti', 'forti', 'henc', 'hereaft', 'herebi', 'howev', 'hundr', 'inde', 'mani', 'meanwhil', 'moreov', 'nobodi', 'noon', 'noth', 'nowher', 'onc', 'onli', 'otherwis', 'ourselv', 'perhap', 'pleas', 'sever', 'sinc', 'sincer', 'sixti', 'someon', 'someth', 'sometim', 'somewher', 'themselv', 'thenc', 'thereaft', 'therebi', 'therefor', 'togeth', 'twelv', 'twenti', 'veri', 'whatev', 'whenc', 'whenev', 'wherea', 'whereaft', 'wherebi', 'wherev', 'whi', 'yourselv'] not in stop_words.\n",
      "  'stop_words.' % sorted(inconsistent))\n",
      "C:\\Users\\victus123\\anaconda3\\envs\\ml_env\\lib\\site-packages\\xgboost\\sklearn.py:1224: UserWarning: The use of label encoder in XGBClassifier is deprecated and will be removed in a future release. To remove this warning, do the following: 1) Pass option use_label_encoder=False when constructing XGBClassifier object; and 2) Encode your labels (y) as integers starting with 0, i.e. 0, 1, 2, ..., [num_class - 1].\n",
      "  warnings.warn(label_encoder_deprecation_msg, UserWarning)\n"
     ]
    },
    {
     "data": {
      "text/plain": [
       "Pipeline(steps=[('features',\n",
       "                 ColumnTransformer(transformers=[('text',\n",
       "                                                  Pipeline(steps=[('vect',\n",
       "                                                                   TfidfVectorizer(ngram_range=(1,\n",
       "                                                                                                2),\n",
       "                                                                                   stop_words='english',\n",
       "                                                                                   tokenizer=<function stemmed_tokenizer at 0x0000027700312158>)),\n",
       "                                                                  ('tfidf',\n",
       "                                                                   TfidfTransformer())]),\n",
       "                                                  'website_url'),\n",
       "                                                 ('num',\n",
       "                                                  Pipeline(steps=[('scaler',\n",
       "                                                                   MinMaxScaler())]),\n",
       "                                                  ['query_count', 'url_length',\n",
       "                                                   'num_count'])])),\n",
       "                (...\n",
       "                               importance_type=None, interaction_constraints='',\n",
       "                               learning_rate=0.300000012, max_delta_step=0,\n",
       "                               max_depth=6, min_child_weight=1, missing=nan,\n",
       "                               monotone_constraints='()', n_estimators=100,\n",
       "                               n_jobs=12, num_class=15, num_parallel_tree=1,\n",
       "                               objective='multi:softprob', predictor='auto',\n",
       "                               random_state=0, reg_alpha=0, reg_lambda=1,\n",
       "                               scale_pos_weight=None, subsample=1,\n",
       "                               tree_method='exact', validate_parameters=1, ...))])"
      ]
     },
     "execution_count": 70,
     "metadata": {},
     "output_type": "execute_result"
    }
   ],
   "source": [
    "# ✅ Training the Model\n",
    "pipeline.fit(X_train_balanced, Y_train_balanced)"
   ]
  },
  {
   "cell_type": "code",
   "execution_count": 72,
   "id": "b00f33bc",
   "metadata": {},
   "outputs": [],
   "source": [
    "# ✅ Making Predictions\n",
    "X_test_transformed=preprocessor.transform(X_test)\n",
    "y_pred = pipeline.predict(X_test_transformed)"
   ]
  },
  {
   "cell_type": "code",
   "execution_count": 74,
   "id": "9021ba51",
   "metadata": {},
   "outputs": [],
   "source": [
    "from sklearn.metrics import accuracy_score, classification_report, confusion_matrix"
   ]
  },
  {
   "cell_type": "code",
   "execution_count": 76,
   "id": "b8066943",
   "metadata": {},
   "outputs": [
    {
     "name": "stdout",
     "output_type": "stream",
     "text": [
      "\n",
      "✅ Accuracy: 0.31153333333333333\n",
      "\n",
      "📊 Classification Report:\n",
      "               precision    recall  f1-score   support\n",
      "\n",
      "       Adult       0.21      0.58      0.31      1000\n",
      "        Arts       0.65      0.25      0.36      1000\n",
      "    Business       0.19      0.23      0.21      1000\n",
      "   Computers       0.42      0.20      0.27      1000\n",
      "       Games       0.40      0.49      0.44      1000\n",
      "      Health       0.22      0.31      0.26      1000\n",
      "        Home       0.90      0.40      0.55      1000\n",
      "        Kids       0.17      0.37      0.24      1000\n",
      "        News       0.37      0.20      0.26      1000\n",
      "  Recreation       0.25      0.15      0.19      1000\n",
      "   Reference       0.46      0.60      0.52      1000\n",
      "     Science       0.26      0.38      0.31      1000\n",
      "    Shopping       0.19      0.08      0.11      1000\n",
      "     Society       0.43      0.17      0.24      1000\n",
      "      Sports       0.81      0.28      0.41      1000\n",
      "\n",
      "    accuracy                           0.31     15000\n",
      "   macro avg       0.40      0.31      0.31     15000\n",
      "weighted avg       0.40      0.31      0.31     15000\n",
      "\n"
     ]
    }
   ],
   "source": [
    "print(\"\\n✅ Accuracy:\", accuracy_score(y_test, y_pred))\n",
    "print(\"\\n📊 Classification Report:\\n\", classification_report(y_test, y_pred))\n"
   ]
  },
  {
   "cell_type": "code",
   "execution_count": 78,
   "id": "badf1d27",
   "metadata": {},
   "outputs": [
    {
     "data": {
      "image/png": "[encoded data removed]",
      "text/plain": [
       "<Figure size 864x432 with 2 Axes>"
      ]
     },
     "metadata": {
      "needs_background": "light"
     },
     "output_type": "display_data"
    }
   ],
   "source": [
    "plt.figure(figsize=(12,6))\n",
    "conf_matrix = confusion_matrix(y_test, y_pred)\n",
    "sns.heatmap(conf_matrix, annot=True, fmt='d', cmap='Blues', xticklabels=np.unique(y_train), yticklabels=np.unique(y_train))\n",
    "plt.title(\"Confusion Matrix\")\n",
    "plt.xlabel(\"Predicted\")\n",
    "plt.ylabel(\"Actual\")\n",
    "plt.show()"
   ]
  },
  {
   "cell_type": "code",
   "execution_count": null,
   "id": "4d4e21b2",
   "metadata": {},
   "outputs": [],
   "source": [
    "# 🔹 **Test New URLs**\n",
    "new_urls = [\n",
    "    \"https://www.espn.com/nba/scores\",\n",
    "    \"http://netflix.com/show/98765\",\n",
    "    \"https://github.com/tensorflow/models\",\n",
    "    \"https://www.bbc.com/news/politics\",\n",
    "    \"renewable-resources.netlify.app\"\n",
    "]\n",
    "\n",
    "new_urls_processed = [preprocess_url(url) for url in new_urls]\n",
    "predictions = pipeline.predict(pd.DataFrame({\"website_url\": new_urls_processed, \"query_count\": [0]*len(new_urls), \"url_length\": [len(url) for url in new_urls], \"num_count\": [sum(c.isdigit() for c in url) for url in new_urls]}))\n",
    "\n",
    "print(\"\\n🔹 Predictions on New URLs:\")\n",
    "for url, category in zip(new_urls, predictions):\n",
    "    print(f\"{url} → {category}\")"
   ]
  },
  {
   "cell_type": "code",
   "execution_count": null,
   "id": "069e62c7",
   "metadata": {},
   "outputs": [],
   "source": [
    "test_data['category'].value_counts()"
   ]
  },
  {
   "cell_type": "code",
   "execution_count": null,
   "id": "ece876de",
   "metadata": {},
   "outputs": [],
   "source": [
    "df['category'].value_counts()"
   ]
  },
  {
   "cell_type": "code",
   "execution_count": null,
   "id": "df47dd78",
   "metadata": {},
   "outputs": [],
   "source": [
    "df.columns"
   ]
  },
  {
   "cell_type": "code",
   "execution_count": null,
   "id": "afe9987d",
   "metadata": {},
   "outputs": [],
   "source": [
    "import tensorflow as tf"
   ]
  },
  {
   "cell_type": "code",
   "execution_count": null,
   "id": "c13ecdb5-a048-4951-897f-aa36a7d2936f",
   "metadata": {},
   "outputs": [],
   "source": [
    "print(tf.__version__)"
   ]
  },
  {
   "cell_type": "code",
   "execution_count": 1,
   "id": "7c1dc8e9-dacf-4b47-a709-0699d6cf70b1",
   "metadata": {},
   "outputs": [
    {
     "name": "stdout",
     "output_type": "stream",
     "text": [
      "TensorFlow Version: 2.1.0\n",
      "Num GPUs Available (Physical):  1\n",
      "  GPU: PhysicalDevice(name='/physical_device:GPU:0', device_type='GPU')\n",
      "Num GPUs Available (Logical):  1\n",
      "  GPU: LogicalDevice(name='/device:GPU:0', device_type='GPU')\n",
      "Tensor created on GPU: tf.Tensor([1 2 3], shape=(3,), dtype=int32)\n",
      "GPU is working.\n",
      "TensorFlow built with CUDA: True\n"
     ]
    }
   ],
   "source": [
    "import tensorflow as tf\n",
    "\n",
    "def check_gpu():\n",
    "    \"\"\"Checks for GPU availability and prints relevant information.\"\"\"\n",
    "\n",
    "    print(\"TensorFlow Version:\", tf.__version__)\n",
    "\n",
    "    # Method 1: Check for physical devices (Recommended for TF 2.x and later)\n",
    "    physical_devices = tf.config.list_physical_devices('GPU')\n",
    "    print(\"Num GPUs Available (Physical): \", len(physical_devices))\n",
    "    if physical_devices:\n",
    "        for gpu in physical_devices:\n",
    "            print(\"  GPU:\", gpu)\n",
    "    else:\n",
    "        print(\"  No GPUs found (Physical).\")\n",
    "\n",
    "    # Method 2: Check for logical devices (Can show virtual GPUs, less reliable)\n",
    "    logical_devices = tf.config.list_logical_devices('GPU')\n",
    "    print(\"Num GPUs Available (Logical): \", len(logical_devices))\n",
    "    if logical_devices:\n",
    "        for gpu in logical_devices:\n",
    "            print(\"  GPU:\", gpu)\n",
    "    else:\n",
    "        print(\"  No GPUs found (Logical).\")\n",
    "\n",
    "\n",
    "    try:\n",
    "        # Attempt a simple GPU computation\n",
    "        with tf.device('/GPU:0'):  # Try placing a tensor on the first GPU\n",
    "            a = tf.constant([1, 2, 3])\n",
    "            print(\"Tensor created on GPU:\", a)\n",
    "            print(\"GPU is working.\")\n",
    "    except RuntimeError as e:\n",
    "        print(\"Error during GPU computation:\", e)\n",
    "        print(\"GPU might not be configured correctly.\")\n",
    "\n",
    "    # Additional Check: Check if TensorFlow was built with CUDA\n",
    "    print(\"TensorFlow built with CUDA:\", tf.test.is_built_with_cuda())\n",
    "\n",
    "\n",
    "if __name__ == \"__main__\":\n",
    "    check_gpu()"
   ]
  },
  {
   "cell_type": "code",
   "execution_count": null,
   "id": "e0e278ed-22c0-49da-a7fb-6c3bff268824",
   "metadata": {},
   "outputs": [],
   "source": [
    "pip uninstall tensorflow"
   ]
  },
  {
   "cell_type": "code",
   "execution_count": null,
   "id": "9608ea08-6d2f-4f76-b3b1-26f6f11d9e31",
   "metadata": {},
   "outputs": [],
   "source": [
    "pip install tensorflow-gpu==2.18.0"
   ]
  },
  {
   "cell_type": "code",
   "execution_count": 3,
   "id": "3eabf3d8-0ee7-4c9e-b716-460585bff72a",
   "metadata": {},
   "outputs": [
    {
     "name": "stdout",
     "output_type": "stream",
     "text": [
      "Num GPUs Available: 1\n"
     ]
    }
   ],
   "source": [
    "print(\"Num GPUs Available:\", len(tf.config.list_physical_devices('GPU')))\n"
   ]
  },
  {
   "cell_type": "code",
   "execution_count": 5,
   "id": "ae3ff9e4-eb8c-4215-ba74-07278d8b8ee6",
   "metadata": {},
   "outputs": [
    {
     "name": "stdout",
     "output_type": "stream",
     "text": [
      "LogicalDevice(name='/device:CPU:0', device_type='CPU')\n",
      "LogicalDevice(name='/device:GPU:0', device_type='GPU')\n"
     ]
    }
   ],
   "source": [
    "for device in tf.config.experimental.list_logical_devices():\n",
    "    print(device)\n"
   ]
  },
  {
   "cell_type": "code",
   "execution_count": 7,
   "id": "b086a3d0-0fe6-43d9-b6f5-9ea5f0e98f71",
   "metadata": {},
   "outputs": [
    {
     "name": "stdout",
     "output_type": "stream",
     "text": [
      "Wed Feb 26 16:40:57 2025       \n",
      "+-----------------------------------------------------------------------------------------+\n",
      "| NVIDIA-SMI 561.19                 Driver Version: 561.19         CUDA Version: 12.6     |\n",
      "|-----------------------------------------+------------------------+----------------------+\n",
      "| GPU  Name                  Driver-Model | Bus-Id          Disp.A | Volatile Uncorr. ECC |\n",
      "| Fan  Temp   Perf          Pwr:Usage/Cap |           Memory-Usage | GPU-Util  Compute M. |\n",
      "|                                         |                        |               MIG M. |\n",
      "|=========================================+========================+======================|\n",
      "|   0  NVIDIA GeForce GTX 1650      WDDM  |   00000000:01:00.0 Off |                  N/A |\n",
      "| N/A   48C    P8              3W /   30W |    3259MiB /   4096MiB |      0%      Default |\n",
      "|                                         |                        |                  N/A |\n",
      "+-----------------------------------------+------------------------+----------------------+\n",
      "                                                                                         \n",
      "+-----------------------------------------------------------------------------------------+\n",
      "| Processes:                                                                              |\n",
      "|  GPU   GI   CI        PID   Type   Process name                              GPU Memory |\n",
      "|        ID   ID                                                               Usage      |\n",
      "|=========================================================================================|\n",
      "|    0   N/A  N/A      6800      C   ...23\\anaconda3\\envs\\ml_env\\python.exe      N/A      |\n",
      "|    0   N/A  N/A     18456      C   ...23\\anaconda3\\envs\\ml_env\\python.exe      N/A      |\n",
      "+-----------------------------------------------------------------------------------------+\n"
     ]
    }
   ],
   "source": [
    "!nvidia-smi"
   ]
  },
  {
   "cell_type": "code",
   "execution_count": 9,
   "id": "97f64bc6-bddd-4071-a20b-09b8c6805869",
   "metadata": {},
   "outputs": [
    {
     "name": "stdout",
     "output_type": "stream",
     "text": [
      "✅ GPU is available!\n",
      "⏳ CPU Time: 1.8941 seconds\n",
      "⚡ GPU Time: 0.0157 seconds\n",
      "🚀 Speedup: 120.88x faster on GPU\n"
     ]
    }
   ],
   "source": [
    "\n",
    "import time\n",
    "\n",
    "# Check if GPU is available\n",
    "if tf.config.list_physical_devices('GPU'):\n",
    "    print(\"✅ GPU is available!\")\n",
    "else:\n",
    "    print(\"❌ GPU not found. Running on CPU.\")\n",
    "\n",
    "# Function to measure execution time\n",
    "def benchmark_tensor_operation(device):\n",
    "    shape = (1000, 1000)  # Large matrix size for performance test\n",
    "    a = tf.random.normal(shape)\n",
    "    b = tf.random.normal(shape)\n",
    "\n",
    "    # Run operation on specified device\n",
    "    with tf.device(device):\n",
    "        start_time = time.time()\n",
    "        for _ in range(100):  # Run multiple times for better measurement\n",
    "            c = tf.matmul(a, b)\n",
    "        end_time = time.time()\n",
    "\n",
    "    return end_time - start_time\n",
    "\n",
    "# Benchmark CPU\n",
    "cpu_time = benchmark_tensor_operation('/CPU:0')\n",
    "print(f\"⏳ CPU Time: {cpu_time:.4f} seconds\")\n",
    "\n",
    "# Benchmark GPU (if available)\n",
    "if tf.config.list_physical_devices('GPU'):\n",
    "    gpu_time = benchmark_tensor_operation('/GPU:0')\n",
    "    print(f\"⚡ GPU Time: {gpu_time:.4f} seconds\")\n",
    "    print(f\"🚀 Speedup: {cpu_time / gpu_time:.2f}x faster on GPU\")\n",
    "else:\n",
    "    print(\"⚠ Running only on CPU, no GPU detected.\")\n"
   ]
  },
  {
   "cell_type": "code",
   "execution_count": null,
   "id": "d98a4295-4c2c-4b9e-811d-e6c0c5553ac6",
   "metadata": {},
   "outputs": [],
   "source": []
  }
 ],
 "metadata": {
  "kernelspec": {
   "display_name": "Python [conda env:ml_env]",
   "language": "python",
   "name": "conda-env-ml_env-py"
  },
  "language_info": {
   "codemirror_mode": {
    "name": "ipython",
    "version": 3
   },
   "file_extension": ".py",
   "mimetype": "text/x-python",
   "name": "python",
   "nbconvert_exporter": "python",
   "pygments_lexer": "ipython3",
   "version": "3.6.13"
  }
 },
 "nbformat": 4,
 "nbformat_minor": 5
}
